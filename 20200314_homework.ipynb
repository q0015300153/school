{
  "nbformat": 4,
  "nbformat_minor": 0,
  "metadata": {
    "colab": {
      "name": "20200314_homework.ipynb",
      "provenance": [],
      "collapsed_sections": [],
      "authorship_tag": "ABX9TyOFoCGMmr0cR0iaDR09F1BI",
      "include_colab_link": true
    },
    "kernelspec": {
      "name": "python3",
      "display_name": "Python 3"
    }
  },
  "cells": [
    {
      "cell_type": "markdown",
      "metadata": {
        "id": "view-in-github",
        "colab_type": "text"
      },
      "source": [
        "<a href=\"https://colab.research.google.com/github/q0015300153/school_AI_and_security/blob/master/20200314_homework.ipynb\" target=\"_parent\"><img src=\"https://colab.research.google.com/assets/colab-badge.svg\" alt=\"Open In Colab\"/></a>"
      ]
    },
    {
      "cell_type": "markdown",
      "metadata": {
        "id": "9QyM3Vf6lE2s",
        "colab_type": "text"
      },
      "source": [
        "1.Annotate Text Arrow"
      ]
    },
    {
      "cell_type": "code",
      "metadata": {
        "id": "8Qd_WEQHQHKV",
        "colab_type": "code",
        "outputId": "2e8481be-72bb-4015-d573-0f7b603a828a",
        "colab": {
          "base_uri": "https://localhost:8080/",
          "height": 324
        }
      },
      "source": [
        "# 載入元件\n",
        "import numpy as np              # 矩陣計算\n",
        "import matplotlib.pyplot as plt # 圖表\n",
        "\n",
        "# 建立圖表\n",
        "fig, ax = plt.subplots(figsize=(5, 5)) # 建立子圖表，尺寸 5 * 5\n",
        "ax.set_aspect(1)                       # 設定 x 軸對 y 軸的縮放比例\n",
        "\n",
        "# 建立資料\n",
        "x1 = -1 + np.random.randn(100) # 產生 100 組 x1 資料，使用 -1 + 隨機數\n",
        "y1 = -1 + np.random.randn(100) # 產生 100 組 y1 資料，使用 -1 + 隨機數\n",
        "x2 = 1. + np.random.randn(100) # 產生 100 組 x2 資料，使用 1 + 隨機數\n",
        "y2 = 1. + np.random.randn(100) # 產生 100 組 y2 資料，使用 1 + 隨機數\n",
        "ax.scatter(x1, y1, color=\"r\")  # xy 散佈圖，紅色點\n",
        "ax.scatter(x2, y2, color=\"g\")  # xy 散佈圖，綠色點\n",
        "\n",
        "# 建立文字框\n",
        "bbox_props = dict(boxstyle=\"round\", # 建立文字框樣式，框線樣式 round\n",
        "                  fc=\"w\",           # 背景色 w\n",
        "                  ec=\"0.5\",         # 邊框顏色 0.5\n",
        "                  alpha=0.9)        # 角度 0.9\n",
        "ax.text(-2, -2,                     # 建立文字框，座標 -2, -2\n",
        "        \"Sample A\",                 # 顯示文字 \"Sample A\"\n",
        "        ha=\"center\",                # 橫坐標 center\n",
        "        va=\"center\",                # 直坐標 center\n",
        "        size=20,                    # 尺寸 20\n",
        "        bbox=bbox_props)            # 文字框樣式\n",
        "ax.text(2, 2,                       # 建立文字框，座標 2, 2\n",
        "        \"Sample B\",                 # 顯示文字 \"Sample A\"\n",
        "        ha=\"center\",                # 橫坐標 center\n",
        "        va=\"center\",                # 直坐標 center\n",
        "        size=20,                    # 尺寸 20\n",
        "        bbox=bbox_props)            # 文字框樣式\n",
        "\n",
        "# 建立箭頭文字框\n",
        "bbox_props = dict(boxstyle=\"rarrow\",  # 建立文字框樣式，框線樣式 rarrow\n",
        "                  fc=(0.8, 0.9, 0.9), # 背景色 R=0.8、G=0.9、B=0.9\n",
        "                  ec=\"b\",             # 邊框顏色 b\n",
        "                  lw=2)               # 邊框寬度 2\n",
        "t = ax.text(0, 0,                     # 建立文字框，座標 0, 0\n",
        "            \"Direction\",              # 顯示文字 \"Direction\"\n",
        "            ha=\"center\",              # 橫坐標 center\n",
        "            va=\"center\",              # 直坐標 center\n",
        "            rotation=45,              # 角度 45\n",
        "            size=15,                  # 尺寸 15\n",
        "            bbox=bbox_props)          # 文字框樣式\n",
        "bb = t.get_bbox_patch()               # 取得建立好的文字框\n",
        "bb.set_boxstyle(\"rarrow\", pad=0.6)    # 改為箭頭樣式，尺寸 0.6\n",
        "\n",
        "# 設定軸\n",
        "ax.set_xlim(-4, 4) # 設定 x 軸範圍 -4 ~ 4\n",
        "ax.set_ylim(-4, 4) # 設定 y 軸範圍 -4 ~ 4\n",
        "\n",
        "# 顯示圖表\n",
        "plt.show()"
      ],
      "execution_count": 20,
      "outputs": [
        {
          "output_type": "display_data",
          "data": {
            "image/png": "[encoded data removed]",
            "text/plain": [
              "<Figure size 360x360 with 1 Axes>"
            ]
          },
          "metadata": {
            "tags": []
          }
        }
      ]
    },
    {
      "cell_type": "markdown",
      "metadata": {
        "id": "TNrtf3G8leLG",
        "colab_type": "text"
      },
      "source": [
        "2.Dropped spines"
      ]
    },
    {
      "cell_type": "code",
      "metadata": {
        "id": "ZqffJwVZlOhP",
        "colab_type": "code",
        "colab": {
          "base_uri": "https://localhost:8080/",
          "height": 291
        },
        "outputId": "e0683303-b389-4ca4-f61e-e0ed88860392"
      },
      "source": [
        "# 載入元件\n",
        "import numpy as np              # 矩陣計算\n",
        "import matplotlib.pyplot as plt # 圖表\n",
        "\n",
        "# 設定隨機樹種子，以確保圖表再現性\n",
        "np.random.seed(19680801)\n",
        "\n",
        "# 建立圖表\n",
        "fig, ax = plt.subplots()\n",
        "\n",
        "# 建立資料\n",
        "image = np.random.uniform(size=(10, 10)) # 建立資料採樣，樣本數 10 * 10\n",
        "ax.imshow(image,                         # 將資料顯示在圖表上\n",
        "          cmap=plt.cm.gray,              # 將資料對應到顏色，採用灰度\n",
        "          interpolation='nearest')       # 插值的方法 nearest\n",
        "ax.set_title('dropped spines')           # 圖表表頭\n",
        "\n",
        "# 移動標籤軸\n",
        "ax.spines['left'].set_position(('outward', 10))   # 標籤軸往左移 10 點\n",
        "ax.spines['bottom'].set_position(('outward', 10)) # 標籤軸往下移 10 點\n",
        "\n",
        "# 隱藏標籤軸\n",
        "ax.spines['right'].set_visible(False) # 隱藏右標籤軸\n",
        "ax.spines['top'].set_visible(False)   # 隱藏上標籤軸\n",
        "\n",
        "# 設定刻度位置\n",
        "ax.yaxis.set_ticks_position('left')   # 設定 y 標籤軸顯示在左側\n",
        "ax.xaxis.set_ticks_position('bottom') # 設定 x 標籤軸顯示在下方\n",
        "\n",
        "# 顯示圖表\n",
        "plt.show()"
      ],
      "execution_count": 19,
      "outputs": [
        {
          "output_type": "display_data",
          "data": {
            "image/png": "[encoded data removed]",
            "text/plain": [
              "<Figure size 432x288 with 1 Axes>"
            ]
          },
          "metadata": {
            "tags": []
          }
        }
      ]
    }
  ]
}