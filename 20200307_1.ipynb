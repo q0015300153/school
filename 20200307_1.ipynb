{
  "nbformat": 4,
  "nbformat_minor": 0,
  "metadata": {
    "colab": {
      "name": "20200307_1.ipynb",
      "provenance": [],
      "authorship_tag": "ABX9TyONpIV4n8TO4mQZmz2ZuVO6",
      "include_colab_link": true
    },
    "kernelspec": {
      "name": "python3",
      "display_name": "Python 3"
    }
  },
  "cells": [
    {
      "cell_type": "markdown",
      "metadata": {
        "id": "view-in-github",
        "colab_type": "text"
      },
      "source": [
        "<a href=\"https://colab.research.google.com/github/q0015300153/school_AI_and_security/blob/master/20200307_1.ipynb\" target=\"_parent\"><img src=\"https://colab.research.google.com/assets/colab-badge.svg\" alt=\"Open In Colab\"/></a>"
      ]
    },
    {
      "cell_type": "code",
      "metadata": {
        "id": "IgH7o_mvljCm",
        "colab_type": "code",
        "colab": {}
      },
      "source": [
        "import numpy as np\n",
        "import matplotlib.pyplot as plt\n",
        "np.random.seed(7)\n",
        "\n",
        "x = np.random.rand(20)*8-4\n",
        "\n",
        "y = np.sin(x) + np.random.rand(20)*0.2\n",
        "\n",
        "\n",
        "omega = np.polyfit(x,y,1) #測試各次方\n",
        "\n",
        "f=np.poly1d(omega)\n",
        "\n",
        "\n",
        "plt.xlabel('X')\n",
        "plt.ylabel('Y')\n",
        "plt.title('using polyfitfunction')\n",
        "plt.grid()\n",
        "plt.scatter(x, y, marker='x', c='red')\n",
        "\n",
        "xx = np.linspace(-4, 4, 100)\n",
        "\n",
        "plt.plot(xx, f(xx), color='green')\n",
        "\n",
        "plt.show()"
      ],
      "execution_count": 0,
      "outputs": []
    }
  ]
}